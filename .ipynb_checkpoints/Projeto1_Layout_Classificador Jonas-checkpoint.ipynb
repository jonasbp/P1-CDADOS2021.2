{
 "cells": [
  {
   "cell_type": "markdown",
   "metadata": {},
   "source": [
    "# Projeto 1 - Ciência dos Dados"
   ]
  },
  {
   "cell_type": "markdown",
   "metadata": {},
   "source": [
    "Nome: Guilermo Kuznietz\n",
    "\n",
    "Nome: Jonas Bonfá Pelegrina"
   ]
  },
  {
   "cell_type": "markdown",
   "metadata": {},
   "source": [
    "Atenção: Serão permitidos grupos de três pessoas, mas com uma rubrica mais exigente. Grupos deste tamanho precisarão fazer um questionário de avaliação de trabalho em equipe"
   ]
  },
  {
   "cell_type": "markdown",
   "metadata": {},
   "source": [
    "___\n",
    "Carregando algumas bibliotecas:"
   ]
  },
  {
   "cell_type": "code",
   "execution_count": 1,
   "metadata": {},
   "outputs": [],
   "source": [
    "%matplotlib inline\n",
    "import pandas as pd\n",
    "import matplotlib.pyplot as plt\n",
    "import numpy as np\n",
    "import os"
   ]
  },
  {
   "cell_type": "code",
   "execution_count": 2,
   "metadata": {
    "scrolled": true
   },
   "outputs": [
    {
     "name": "stdout",
     "output_type": "stream",
     "text": [
      "Esperamos trabalhar no diretório\n",
      "/Users/guigokuznietz/Desktop/P1-CDADOS2021.2\n"
     ]
    }
   ],
   "source": [
    "print('Esperamos trabalhar no diretório')\n",
    "print(os.getcwd())"
   ]
  },
  {
   "cell_type": "markdown",
   "metadata": {},
   "source": [
    "Carregando a base de dados com os tweets classificados como relevantes e não relevantes:"
   ]
  },
  {
   "cell_type": "code",
   "execution_count": 13,
   "metadata": {},
   "outputs": [],
   "source": [
    "filename = 'Coleta/base.xlsx'"
   ]
  },
  {
   "cell_type": "code",
   "execution_count": 14,
   "metadata": {
    "scrolled": true
   },
   "outputs": [
    {
     "data": {
      "text/html": [
       "<div>\n",
       "<style scoped>\n",
       "    .dataframe tbody tr th:only-of-type {\n",
       "        vertical-align: middle;\n",
       "    }\n",
       "\n",
       "    .dataframe tbody tr th {\n",
       "        vertical-align: top;\n",
       "    }\n",
       "\n",
       "    .dataframe thead th {\n",
       "        text-align: right;\n",
       "    }\n",
       "</style>\n",
       "<table border=\"1\" class=\"dataframe\">\n",
       "  <thead>\n",
       "    <tr style=\"text-align: right;\">\n",
       "      <th></th>\n",
       "      <th>Treinamento</th>\n",
       "      <th>Classificacao</th>\n",
       "    </tr>\n",
       "  </thead>\n",
       "  <tbody>\n",
       "    <tr>\n",
       "      <th>295</th>\n",
       "      <td>la música da vida</td>\n",
       "      <td>0</td>\n",
       "    </tr>\n",
       "    <tr>\n",
       "      <th>296</th>\n",
       "      <td>alexa play me odio by matias candia</td>\n",
       "      <td>0</td>\n",
       "    </tr>\n",
       "    <tr>\n",
       "      <th>297</th>\n",
       "      <td>cemre:vocês queriam tanto que eu aparecesse qu...</td>\n",
       "      <td>0</td>\n",
       "    </tr>\n",
       "    <tr>\n",
       "      <th>298</th>\n",
       "      <td>@karnecita alexa: https://t.co/tc5hbjcuuy</td>\n",
       "      <td>0</td>\n",
       "    </tr>\n",
       "    <tr>\n",
       "      <th>299</th>\n",
       "      <td>alexa, da mis clases híbridas.</td>\n",
       "      <td>0</td>\n",
       "    </tr>\n",
       "  </tbody>\n",
       "</table>\n",
       "</div>"
      ],
      "text/plain": [
       "                                           Treinamento  Classificacao\n",
       "295                                  la música da vida              0\n",
       "296                alexa play me odio by matias candia              0\n",
       "297  cemre:vocês queriam tanto que eu aparecesse qu...              0\n",
       "298          @karnecita alexa: https://t.co/tc5hbjcuuy              0\n",
       "299                     alexa, da mis clases híbridas.              0"
      ]
     },
     "execution_count": 14,
     "metadata": {},
     "output_type": "execute_result"
    }
   ],
   "source": [
    "train = pd.read_excel(filename)\n",
    "train.tail()"
   ]
  },
  {
   "cell_type": "code",
   "execution_count": 15,
   "metadata": {},
   "outputs": [
    {
     "data": {
      "text/html": [
       "<div>\n",
       "<style scoped>\n",
       "    .dataframe tbody tr th:only-of-type {\n",
       "        vertical-align: middle;\n",
       "    }\n",
       "\n",
       "    .dataframe tbody tr th {\n",
       "        vertical-align: top;\n",
       "    }\n",
       "\n",
       "    .dataframe thead th {\n",
       "        text-align: right;\n",
       "    }\n",
       "</style>\n",
       "<table border=\"1\" class=\"dataframe\">\n",
       "  <thead>\n",
       "    <tr style=\"text-align: right;\">\n",
       "      <th></th>\n",
       "      <th>Teste</th>\n",
       "      <th>Classificacao</th>\n",
       "    </tr>\n",
       "  </thead>\n",
       "  <tbody>\n",
       "    <tr>\n",
       "      <th>0</th>\n",
       "      <td>eu odeio quando eu peço pra alexa tocar a musi...</td>\n",
       "      <td>1</td>\n",
       "    </tr>\n",
       "    <tr>\n",
       "      <th>1</th>\n",
       "      <td>alexa play digital dash</td>\n",
       "      <td>1</td>\n",
       "    </tr>\n",
       "    <tr>\n",
       "      <th>2</th>\n",
       "      <td>muito bom conversar com a alexa</td>\n",
       "      <td>1</td>\n",
       "    </tr>\n",
       "    <tr>\n",
       "      <th>3</th>\n",
       "      <td>perguntei pra alexa se podia chamar ela de jar...</td>\n",
       "      <td>1</td>\n",
       "    </tr>\n",
       "    <tr>\n",
       "      <th>4</th>\n",
       "      <td>e a alexa que tá fazendo elogios antes de dar ...</td>\n",
       "      <td>1</td>\n",
       "    </tr>\n",
       "  </tbody>\n",
       "</table>\n",
       "</div>"
      ],
      "text/plain": [
       "                                               Teste  Classificacao\n",
       "0  eu odeio quando eu peço pra alexa tocar a musi...              1\n",
       "1                            alexa play digital dash              1\n",
       "2                    muito bom conversar com a alexa              1\n",
       "3  perguntei pra alexa se podia chamar ela de jar...              1\n",
       "4  e a alexa que tá fazendo elogios antes de dar ...              1"
      ]
     },
     "execution_count": 15,
     "metadata": {},
     "output_type": "execute_result"
    }
   ],
   "source": [
    "test = pd.read_excel(filename, sheet_name = 'Teste')\n",
    "test.head(5)"
   ]
  },
  {
   "cell_type": "markdown",
   "metadata": {},
   "source": [
    "___\n",
    "## Classificador automático de sentimento\n"
   ]
  },
  {
   "cell_type": "markdown",
   "metadata": {},
   "source": [
    "<img src=\"img/alexa_logo.png\" alt=\"Alexa logo\" width=\"500\" height=\"600\">"
   ]
  },
  {
   "cell_type": "markdown",
   "metadata": {},
   "source": [
    "Nosso projeto busca entender o uso da Alexa no mercado brasileiro como os usuário interagem com ela e quais são as principais reações sobre o produto.\n",
    "\n",
    "Exemplos de casos relevantes:\n",
    "- Alexa,como está o dia hoje?\n",
    "- Eu e minha família adoramos a Alexa\n",
    "- A Alexa me entende como vivia antes sem ela?\n",
    "\n",
    "Exemplos de casos irrelevante:\n",
    "- Queria comprar uma Alexa\n",
    "- Eu amo minha amiga que chama Alexa\n",
    "- Tenho quatro filhas: Beatriz,Maria e Alexa"
   ]
  },
  {
   "cell_type": "markdown",
   "metadata": {},
   "source": [
    "___\n",
    "### Montando um Classificador Naive-Bayes\n",
    "\n",
    "Considerando apenas as mensagens da planilha Treinamento, ensine  seu classificador."
   ]
  },
  {
   "cell_type": "code",
   "execution_count": 16,
   "metadata": {},
   "outputs": [],
   "source": [
    "import pandas as pd\n",
    "import numpy as np\n",
    "from IPython.display import display\n",
    "pd.options.display.max_rows = 13"
   ]
  },
  {
   "cell_type": "code",
   "execution_count": 17,
   "metadata": {},
   "outputs": [],
   "source": [
    "#Limpeza de mensagens removendo os caracteres especiais\n",
    "import re \n",
    "\n",
    "\n",
    "def cleanup(text):\n",
    "    \"\"\"\n",
    "        Função de limpeza muito simples que troca alguns sinais básicos por espaços\n",
    "    \"\"\"\n",
    "    #import string\n",
    "    punctuation = '[!-.:?;@]' # Note que os sinais [] são delimitadores de um conjunto.\n",
    "    pattern = re.compile(punctuation)\n",
    "    text_subbed = re.sub(pattern, '', text)\n",
    "    return text_subbed\n",
    "    "
   ]
  },
  {
   "cell_type": "code",
   "execution_count": 18,
   "metadata": {
    "scrolled": false
   },
   "outputs": [
    {
     "data": {
      "text/plain": [
       "'duda_barroso1 alexa o que tenho pra hj'"
      ]
     },
     "execution_count": 18,
     "metadata": {},
     "output_type": "execute_result"
    }
   ],
   "source": [
    "cleanup('@duda_barroso1 alexa, o que tenho pra hj?')"
   ]
  },
  {
   "cell_type": "code",
   "execution_count": 19,
   "metadata": {
    "scrolled": false
   },
   "outputs": [],
   "source": [
    "#RELEVANTE\n",
    "train_relevante = train.loc[train['Classificacao'] == 1,'Treinamento']\n",
    "lista = []\n",
    "lista_relevante = []\n",
    "\n",
    "for i in range(0,len(train_relevante)):\n",
    "    lista.append(cleanup(train_relevante[i]).split())\n",
    "\n",
    "for lista1 in lista:\n",
    "    for palavra in lista1:\n",
    "        if \"https\" not in palavra:\n",
    "            lista_relevante.append(palavra)\n",
    "\n",
    "#RELEVANTE\n",
    "train_irrelevante = train.loc[train['Classificacao'] == 0,'Treinamento']\n",
    "lista = []\n",
    "lista_irrelevante = []\n",
    "\n",
    "for frase in train_irrelevante:\n",
    "    lista.append(cleanup(frase).split())\n",
    "\n",
    "for lista1 in lista:\n",
    "    for palavra in lista1:\n",
    "        if \"https\" not in palavra:\n",
    "            lista_irrelevante.append(palavra)"
   ]
  },
  {
   "cell_type": "markdown",
   "metadata": {},
   "source": [
    "**Verificando as frequências**"
   ]
  },
  {
   "cell_type": "code",
   "execution_count": 20,
   "metadata": {
    "scrolled": false
   },
   "outputs": [
    {
     "data": {
      "text/plain": [
       "alexa         156\n",
       "a              89\n",
       "eu             59\n",
       "e              46\n",
       "pra            45\n",
       "             ... \n",
       "quase           1\n",
       "vc              1\n",
       "kkkkkkk         1\n",
       "nãooooo         1\n",
       "disciplina      1\n",
       "Length: 796, dtype: int64"
      ]
     },
     "execution_count": 20,
     "metadata": {},
     "output_type": "execute_result"
    }
   ],
   "source": [
    "# RELEVANTE - FREQUENCIA ABSOLUTA\n",
    "serie_relevante = pd.Series(lista_relevante)\n",
    "serie_relevante.value_counts()"
   ]
  },
  {
   "cell_type": "code",
   "execution_count": 21,
   "metadata": {
    "scrolled": true
   },
   "outputs": [],
   "source": [
    "# RELEVANTE - FREQUENCIA RELATIVA\n",
    "serie_relevante = pd.Series(lista_relevante)\n",
    "serie_relevante_relativa = serie_relevante.value_counts(True)"
   ]
  },
  {
   "cell_type": "code",
   "execution_count": 22,
   "metadata": {
    "scrolled": false
   },
   "outputs": [
    {
     "data": {
      "text/plain": [
       "alexa        86\n",
       "de           47\n",
       "a            41\n",
       "e            36\n",
       "que          30\n",
       "             ..\n",
       "bahtoyunu     1\n",
       "chataaaa      1\n",
       "crédito       1\n",
       "deixa         1\n",
       "deitei        1\n",
       "Length: 951, dtype: int64"
      ]
     },
     "execution_count": 22,
     "metadata": {},
     "output_type": "execute_result"
    }
   ],
   "source": [
    "# IRRELEVANTE - FREQUENCIA ABSOLUTA\n",
    "serie_irrelevante = pd.Series(lista_irrelevante)\n",
    "serie_irrelevante.value_counts()"
   ]
  },
  {
   "cell_type": "code",
   "execution_count": 23,
   "metadata": {},
   "outputs": [],
   "source": [
    "# IRRELEVANTE - FREQUENCIA RELATIVA\n",
    "serie_irrelevante = pd.Series(lista_irrelevante)\n",
    "serie_irrelevante_relativa = serie_irrelevante.value_counts(True)"
   ]
  },
  {
   "cell_type": "code",
   "execution_count": 24,
   "metadata": {},
   "outputs": [],
   "source": [
    "# TRANSFORMANDO EM UM GRANDE TEXTO\n",
    "\n",
    "livro_relevante = \" \".join(lista_relevante)\n",
    "\n",
    "livro_irrelevante = \" \".join(lista_irrelevante)"
   ]
  },
  {
   "cell_type": "code",
   "execution_count": 25,
   "metadata": {},
   "outputs": [
    {
     "name": "stdout",
     "output_type": "stream",
     "text": [
      "alexa       0.060553\n",
      "a           0.032663\n",
      "de          0.022613\n",
      "e           0.020603\n",
      "eu          0.019849\n",
      "              ...   \n",
      "serviços    0.000251\n",
      "onde        0.000251\n",
      "gataaa      0.000251\n",
      "eller       0.000251\n",
      "deitei      0.000251\n",
      "Length: 1535, dtype: float64\n"
     ]
    }
   ],
   "source": [
    "# JUNTANDO TODAS AS PALAVRAS\n",
    "todas_palavras = livro_relevante + livro_irrelevante\n",
    "todas_palavras = todas_palavras.split()\n",
    "series_todas_palavras = pd.Series(todas_palavras)\n",
    "series_todas_palavras_relativas = series_todas_palavras.value_counts(True)\n",
    "print(series_todas_palavras_relativas)"
   ]
  },
  {
   "cell_type": "markdown",
   "metadata": {},
   "source": [
    "**PROBABILIDADES**"
   ]
  },
  {
   "cell_type": "code",
   "execution_count": 26,
   "metadata": {
    "scrolled": true
   },
   "outputs": [
    {
     "data": {
      "text/plain": [
       "0.07482014388489208"
      ]
     },
     "execution_count": 26,
     "metadata": {},
     "output_type": "execute_result"
    }
   ],
   "source": [
    "serie_relevante_relativa['alexa']"
   ]
  },
  {
   "cell_type": "code",
   "execution_count": 27,
   "metadata": {},
   "outputs": [
    {
     "data": {
      "text/plain": [
       "0.04535864978902954"
      ]
     },
     "execution_count": 27,
     "metadata": {},
     "output_type": "execute_result"
    }
   ],
   "source": [
    "serie_irrelevante_relativa['alexa']"
   ]
  },
  {
   "cell_type": "markdown",
   "metadata": {},
   "source": [
    "**P(R) E P(I)**"
   ]
  },
  {
   "cell_type": "code",
   "execution_count": 28,
   "metadata": {},
   "outputs": [
    {
     "name": "stdout",
     "output_type": "stream",
     "text": [
      "A probabilidade de ser relevante é 0.5238693467336684\n"
     ]
    }
   ],
   "source": [
    "probR = len(serie_relevante) / len(series_todas_palavras)\n",
    "print(f\"A probabilidade de ser relevante é {probR}\")"
   ]
  },
  {
   "cell_type": "code",
   "execution_count": 29,
   "metadata": {
    "scrolled": false
   },
   "outputs": [
    {
     "name": "stdout",
     "output_type": "stream",
     "text": [
      "A probabilidade de ser irrelevante é 0.4763819095477387\n"
     ]
    }
   ],
   "source": [
    "probI = len(serie_irrelevante) / len(series_todas_palavras)\n",
    "print(f\"A probabilidade de ser irrelevante é {probI}\")"
   ]
  },
  {
   "cell_type": "markdown",
   "metadata": {},
   "source": [
    "**Frequência Absoluta das palavras nos Tweets relevantes**"
   ]
  },
  {
   "cell_type": "code",
   "execution_count": 30,
   "metadata": {
    "scrolled": true
   },
   "outputs": [
    {
     "name": "stdout",
     "output_type": "stream",
     "text": [
      "Palavras Relevantes,totais: 2085\n",
      "Palavras Relevantes,não repetidas:  796\n"
     ]
    }
   ],
   "source": [
    "livro_relevante_series = pd.Series(livro_relevante.split())\n",
    "livro_relevante_series = livro_relevante_series.value_counts()\n",
    "soma_relevantes = livro_relevante_series.sum()\n",
    "print('Palavras Relevantes,totais:',soma_relevantes)\n",
    "print('Palavras Relevantes,não repetidas: ',len(livro_relevante_series))"
   ]
  },
  {
   "cell_type": "markdown",
   "metadata": {},
   "source": [
    "**Frequência Absoluta das palavras nos Tweets irrelevantes**"
   ]
  },
  {
   "cell_type": "code",
   "execution_count": 31,
   "metadata": {},
   "outputs": [
    {
     "name": "stdout",
     "output_type": "stream",
     "text": [
      "Palavras Relevantes,totais: 1896\n",
      "Palavras Relevantes,não repetidas:  951\n"
     ]
    }
   ],
   "source": [
    "livro_irrelevante_series = pd.Series(livro_irrelevante.split())\n",
    "livro_irrelevante_series = livro_irrelevante_series.value_counts()\n",
    "soma_irrelevantes = livro_irrelevante_series.sum()\n",
    "print('Palavras Relevantes,totais:',soma_irrelevantes)\n",
    "print('Palavras Relevantes,não repetidas: ',len(livro_irrelevante_series))"
   ]
  },
  {
   "cell_type": "markdown",
   "metadata": {},
   "source": [
    "**FREQUÊNCIA ABSOLUTA TOTAL** <br>\n",
    "Frequencia Absoluta com relevantes e irrelevantes juntas"
   ]
  },
  {
   "cell_type": "code",
   "execution_count": 32,
   "metadata": {},
   "outputs": [
    {
     "name": "stdout",
     "output_type": "stream",
     "text": [
      "O total de palavras na base é de: 3980\n"
     ]
    }
   ],
   "source": [
    "print(\"O total de palavras na base é de:\",len(series_todas_palavras))"
   ]
  },
  {
   "cell_type": "markdown",
   "metadata": {},
   "source": [
    "**Começando a calcular**"
   ]
  },
  {
   "cell_type": "code",
   "execution_count": 33,
   "metadata": {
    "scrolled": true
   },
   "outputs": [
    {
     "data": {
      "text/html": [
       "<div>\n",
       "<style scoped>\n",
       "    .dataframe tbody tr th:only-of-type {\n",
       "        vertical-align: middle;\n",
       "    }\n",
       "\n",
       "    .dataframe tbody tr th {\n",
       "        vertical-align: top;\n",
       "    }\n",
       "\n",
       "    .dataframe thead th {\n",
       "        text-align: right;\n",
       "    }\n",
       "</style>\n",
       "<table border=\"1\" class=\"dataframe\">\n",
       "  <thead>\n",
       "    <tr style=\"text-align: right;\">\n",
       "      <th></th>\n",
       "      <th>Teste</th>\n",
       "      <th>Classificacao</th>\n",
       "    </tr>\n",
       "  </thead>\n",
       "  <tbody>\n",
       "    <tr>\n",
       "      <th>0</th>\n",
       "      <td>eu odeio quando eu peço pra alexa tocar a musi...</td>\n",
       "      <td>1</td>\n",
       "    </tr>\n",
       "    <tr>\n",
       "      <th>1</th>\n",
       "      <td>alexa play digital dash</td>\n",
       "      <td>1</td>\n",
       "    </tr>\n",
       "    <tr>\n",
       "      <th>2</th>\n",
       "      <td>muito bom conversar com a alexa</td>\n",
       "      <td>1</td>\n",
       "    </tr>\n",
       "    <tr>\n",
       "      <th>3</th>\n",
       "      <td>perguntei pra alexa se podia chamar ela de jar...</td>\n",
       "      <td>1</td>\n",
       "    </tr>\n",
       "    <tr>\n",
       "      <th>4</th>\n",
       "      <td>e a alexa que tá fazendo elogios antes de dar ...</td>\n",
       "      <td>1</td>\n",
       "    </tr>\n",
       "    <tr>\n",
       "      <th>...</th>\n",
       "      <td>...</td>\n",
       "      <td>...</td>\n",
       "    </tr>\n",
       "    <tr>\n",
       "      <th>195</th>\n",
       "      <td>@alexa_sasmaz_ aytaç e cemre é que nem vinho q...</td>\n",
       "      <td>0</td>\n",
       "    </tr>\n",
       "    <tr>\n",
       "      <th>196</th>\n",
       "      <td>@kyujijiq gn alexa!</td>\n",
       "      <td>0</td>\n",
       "    </tr>\n",
       "    <tr>\n",
       "      <th>197</th>\n",
       "      <td>@denisemustafa @tdbem nesse ponto de \"entendim...</td>\n",
       "      <td>0</td>\n",
       "    </tr>\n",
       "    <tr>\n",
       "      <th>198</th>\n",
       "      <td>@helnikfvs alexa tocar pra essa pessoa \"seu pr...</td>\n",
       "      <td>0</td>\n",
       "    </tr>\n",
       "    <tr>\n",
       "      <th>199</th>\n",
       "      <td>@denisemustafa @tdbem tenho um google aqui tbm...</td>\n",
       "      <td>0</td>\n",
       "    </tr>\n",
       "  </tbody>\n",
       "</table>\n",
       "<p>200 rows × 2 columns</p>\n",
       "</div>"
      ],
      "text/plain": [
       "                                                 Teste  Classificacao\n",
       "0    eu odeio quando eu peço pra alexa tocar a musi...              1\n",
       "1                              alexa play digital dash              1\n",
       "2                      muito bom conversar com a alexa              1\n",
       "3    perguntei pra alexa se podia chamar ela de jar...              1\n",
       "4    e a alexa que tá fazendo elogios antes de dar ...              1\n",
       "..                                                 ...            ...\n",
       "195  @alexa_sasmaz_ aytaç e cemre é que nem vinho q...              0\n",
       "196                                @kyujijiq gn alexa!              0\n",
       "197  @denisemustafa @tdbem nesse ponto de \"entendim...              0\n",
       "198  @helnikfvs alexa tocar pra essa pessoa \"seu pr...              0\n",
       "199  @denisemustafa @tdbem tenho um google aqui tbm...              0\n",
       "\n",
       "[200 rows x 2 columns]"
      ]
     },
     "execution_count": 33,
     "metadata": {},
     "output_type": "execute_result"
    }
   ],
   "source": [
    "test"
   ]
  },
  {
   "cell_type": "code",
   "execution_count": 34,
   "metadata": {},
   "outputs": [
    {
     "data": {
      "text/html": [
       "<div>\n",
       "<style scoped>\n",
       "    .dataframe tbody tr th:only-of-type {\n",
       "        vertical-align: middle;\n",
       "    }\n",
       "\n",
       "    .dataframe tbody tr th {\n",
       "        vertical-align: top;\n",
       "    }\n",
       "\n",
       "    .dataframe thead th {\n",
       "        text-align: right;\n",
       "    }\n",
       "</style>\n",
       "<table border=\"1\" class=\"dataframe\">\n",
       "  <thead>\n",
       "    <tr style=\"text-align: right;\">\n",
       "      <th></th>\n",
       "      <th>Teste</th>\n",
       "      <th>Classificacao</th>\n",
       "    </tr>\n",
       "  </thead>\n",
       "  <tbody>\n",
       "    <tr>\n",
       "      <th>100</th>\n",
       "      <td>vem aí a smart tv da amazon\\n\\n a empresa anun...</td>\n",
       "      <td>0</td>\n",
       "    </tr>\n",
       "    <tr>\n",
       "      <th>101</th>\n",
       "      <td>aaaaa meu deus tô ansiosaaaaa</td>\n",
       "      <td>0</td>\n",
       "    </tr>\n",
       "    <tr>\n",
       "      <th>102</th>\n",
       "      <td>1 pessoa acaba de visitar seu perfil</td>\n",
       "      <td>0</td>\n",
       "    </tr>\n",
       "    <tr>\n",
       "      <th>103</th>\n",
       "      <td>ianmdo faz parte todos ficamos chateados e sur...</td>\n",
       "      <td>0</td>\n",
       "    </tr>\n",
       "    <tr>\n",
       "      <th>104</th>\n",
       "      <td>os trabalhos da alexa com a petra sao muito bons</td>\n",
       "      <td>0</td>\n",
       "    </tr>\n",
       "    <tr>\n",
       "      <th>...</th>\n",
       "      <td>...</td>\n",
       "      <td>...</td>\n",
       "    </tr>\n",
       "    <tr>\n",
       "      <th>195</th>\n",
       "      <td>alexa_sasmaz_ aytaç e cemre é que nem vinho qu...</td>\n",
       "      <td>0</td>\n",
       "    </tr>\n",
       "    <tr>\n",
       "      <th>196</th>\n",
       "      <td>kyujijiq gn alexa</td>\n",
       "      <td>0</td>\n",
       "    </tr>\n",
       "    <tr>\n",
       "      <th>197</th>\n",
       "      <td>denisemustafa tdbem nesse ponto de entendiment...</td>\n",
       "      <td>0</td>\n",
       "    </tr>\n",
       "    <tr>\n",
       "      <th>198</th>\n",
       "      <td>helnikfvs alexa tocar pra essa pessoa seu prob...</td>\n",
       "      <td>0</td>\n",
       "    </tr>\n",
       "    <tr>\n",
       "      <th>199</th>\n",
       "      <td>denisemustafa tdbem tenho um google aqui tbm m...</td>\n",
       "      <td>0</td>\n",
       "    </tr>\n",
       "  </tbody>\n",
       "</table>\n",
       "<p>100 rows × 2 columns</p>\n",
       "</div>"
      ],
      "text/plain": [
       "                                                 Teste  Classificacao\n",
       "100  vem aí a smart tv da amazon\\n\\n a empresa anun...              0\n",
       "101                     aaaaa meu deus tô ansiosaaaaa               0\n",
       "102              1 pessoa acaba de visitar seu perfil               0\n",
       "103  ianmdo faz parte todos ficamos chateados e sur...              0\n",
       "104  os trabalhos da alexa com a petra sao muito bons               0\n",
       "..                                                 ...            ...\n",
       "195  alexa_sasmaz_ aytaç e cemre é que nem vinho qu...              0\n",
       "196                                  kyujijiq gn alexa              0\n",
       "197  denisemustafa tdbem nesse ponto de entendiment...              0\n",
       "198  helnikfvs alexa tocar pra essa pessoa seu prob...              0\n",
       "199  denisemustafa tdbem tenho um google aqui tbm m...              0\n",
       "\n",
       "[100 rows x 2 columns]"
      ]
     },
     "execution_count": 34,
     "metadata": {},
     "output_type": "execute_result"
    }
   ],
   "source": [
    "#LIMPANDO A BASE DE TESTE\n",
    "for linha in range (0,len(test)):\n",
    "    test.iloc[linha,0] = cleanup(test.iloc[linha,0])\n",
    "    test.iloc[linha,0] = re.sub(r'http\\S+', '', test.iloc[linha,0])\n",
    "test.tail(100)"
   ]
  },
  {
   "cell_type": "code",
   "execution_count": 35,
   "metadata": {
    "scrolled": false
   },
   "outputs": [],
   "source": [
    "#Limpeza OK,nessa caso,faremos daqui a pouco\n",
    "#Suavização OK\n",
    "frase = cleanup(test.iloc[20,0])\n",
    "frase_quebrada = frase.split()\n",
    "palavras_frase = pd.Series(frase_quebrada)\n",
    "contador_palavras = len(palavras_frase)"
   ]
  },
  {
   "cell_type": "code",
   "execution_count": 36,
   "metadata": {},
   "outputs": [],
   "source": [
    "#SUAVIZAÇÃO DE LAPLACE SEGUINDO MODELO DO MONKEY LEARN\n",
    "#RELEVANTE\n",
    "frase_d_relevante = 1\n",
    "for palavra in palavras_frase:\n",
    "    if palavra in livro_relevante_series:\n",
    "        frase_d_relevante = frase_d_relevante * (livro_relevante_series[palavra] + 1) / (soma_relevantes + len(todas_palavras))\n",
    "    else:\n",
    "        frase_d_relevante = frase_d_relevante * 1 / (soma_relevantes + len(todas_palavras))"
   ]
  },
  {
   "cell_type": "code",
   "execution_count": 37,
   "metadata": {},
   "outputs": [],
   "source": [
    "#SUAVIZAÇÃO DE LAPLACE SEGUINDO MODELO DO MONKEY LEARN\n",
    "#IRRELEVANTE\n",
    "# O for tem problema ser o mesmo?\n",
    "frase_d_irrelevante = 1\n",
    "for palavra in palavras_frase:\n",
    "    if palavra in livro_irrelevante_series:\n",
    "        frase_d_irrelevante = frase_d_irrelevante * (livro_irrelevante_series[palavra] + 1) / (soma_irrelevantes + len(todas_palavras))\n",
    "    else:\n",
    "        frase_d_irrelevante = frase_d_irrelevante * 1 / (soma_irrelevantes + len(todas_palavras))"
   ]
  },
  {
   "cell_type": "code",
   "execution_count": 38,
   "metadata": {},
   "outputs": [
    {
     "name": "stdout",
     "output_type": "stream",
     "text": [
      "3.138769922622404e-22\n"
     ]
    }
   ],
   "source": [
    "#Agora nós devemos classificar se esse é 0 ou 1?\n",
    "p_relevante_d_frase = probR * frase_d_relevante\n",
    "print(p_relevante_d_frase)"
   ]
  },
  {
   "cell_type": "code",
   "execution_count": 39,
   "metadata": {},
   "outputs": [
    {
     "name": "stdout",
     "output_type": "stream",
     "text": [
      "3.0844270901305302e-24\n"
     ]
    }
   ],
   "source": [
    "p_irrelevante_d_frase = probI * frase_d_irrelevante\n",
    "print(p_irrelevante_d_frase)"
   ]
  },
  {
   "cell_type": "code",
   "execution_count": 40,
   "metadata": {
    "scrolled": true
   },
   "outputs": [
    {
     "data": {
      "text/plain": [
       "True"
      ]
     },
     "execution_count": 40,
     "metadata": {},
     "output_type": "execute_result"
    }
   ],
   "source": [
    "p_relevante_d_frase > p_irrelevante_d_frase"
   ]
  },
  {
   "cell_type": "code",
   "execution_count": 41,
   "metadata": {},
   "outputs": [
    {
     "data": {
      "text/plain": [
       "'denisemustafa tdbem tenho um google aqui tbm mas comprei na gringa tem um tempo e uso mais em ingles que em pt mas habilitei as 2 linguagens acho ruim a interação  comparando com o que foi desenvolvido pra alexa uma amiga tem e funciona bem pelo que vi'"
      ]
     },
     "execution_count": 41,
     "metadata": {},
     "output_type": "execute_result"
    }
   ],
   "source": [
    "test.iloc[linha,0]"
   ]
  },
  {
   "cell_type": "code",
   "execution_count": 42,
   "metadata": {
    "scrolled": true
   },
   "outputs": [],
   "source": [
    "a = []\n",
    "for linha in range (0,len(test)):\n",
    "    frase = test.iloc[linha,0]\n",
    "    frase_quebrada = frase.split()\n",
    "    palavras_frase = pd.Series(frase_quebrada)\n",
    "    contador_palavras = len(palavras_frase)\n",
    "    \n",
    "    #RELEVANTE\n",
    "    frase_d_relevante = 1\n",
    "    for palavra in palavras_frase:\n",
    "        if palavra in livro_relevante_series:\n",
    "            frase_d_relevante = frase_d_relevante * (livro_relevante_series[palavra] + 1) / (soma_relevantes + len(todas_palavras))\n",
    "        else:\n",
    "            frase_d_relevante = frase_d_relevante * 1 / (soma_relevantes + len(todas_palavras))\n",
    "    #IRRELEVANTE\n",
    "    frase_d_irrelevante = 1\n",
    "    for palavra in palavras_frase:\n",
    "        if palavra in livro_irrelevante_series:\n",
    "            frase_d_irrelevante = frase_d_irrelevante * (livro_irrelevante_series[palavra] + 1) / (soma_irrelevantes + len(todas_palavras))\n",
    "        else:\n",
    "            frase_d_irrelevante = frase_d_irrelevante * 1 / (soma_irrelevantes + len(todas_palavras))\n",
    "            \n",
    "    p_relevante_d_frase = probR * frase_d_relevante\n",
    "    p_irrelevante_d_frase = probI * frase_d_irrelevante\n",
    "    if p_relevante_d_frase > p_irrelevante_d_frase:\n",
    "        a.append(True)\n",
    "    else:\n",
    "        a.append(False)\n",
    "test[\"Automático\"] = a"
   ]
  },
  {
   "cell_type": "code",
   "execution_count": 43,
   "metadata": {
    "scrolled": true
   },
   "outputs": [
    {
     "data": {
      "text/html": [
       "<div>\n",
       "<style scoped>\n",
       "    .dataframe tbody tr th:only-of-type {\n",
       "        vertical-align: middle;\n",
       "    }\n",
       "\n",
       "    .dataframe tbody tr th {\n",
       "        vertical-align: top;\n",
       "    }\n",
       "\n",
       "    .dataframe thead th {\n",
       "        text-align: right;\n",
       "    }\n",
       "</style>\n",
       "<table border=\"1\" class=\"dataframe\">\n",
       "  <thead>\n",
       "    <tr style=\"text-align: right;\">\n",
       "      <th></th>\n",
       "      <th>Teste</th>\n",
       "      <th>Classificacao</th>\n",
       "      <th>Automático</th>\n",
       "    </tr>\n",
       "  </thead>\n",
       "  <tbody>\n",
       "    <tr>\n",
       "      <th>190</th>\n",
       "      <td>alwayscharlison boa noite jojo feliz um ano💜👻🦋🎸</td>\n",
       "      <td>0</td>\n",
       "      <td>True</td>\n",
       "    </tr>\n",
       "    <tr>\n",
       "      <th>191</th>\n",
       "      <td>alwayscharlison n0stupidpeople como dizia luis...</td>\n",
       "      <td>0</td>\n",
       "      <td>True</td>\n",
       "    </tr>\n",
       "    <tr>\n",
       "      <th>192</th>\n",
       "      <td>alexa play luca era gay by povia</td>\n",
       "      <td>0</td>\n",
       "      <td>False</td>\n",
       "    </tr>\n",
       "    <tr>\n",
       "      <th>193</th>\n",
       "      <td>blackautie nisso a alexa me salva só falo em v...</td>\n",
       "      <td>0</td>\n",
       "      <td>True</td>\n",
       "    </tr>\n",
       "    <tr>\n",
       "      <th>194</th>\n",
       "      <td>hellencrissb portalaytacsbr sim infelizmente</td>\n",
       "      <td>0</td>\n",
       "      <td>False</td>\n",
       "    </tr>\n",
       "    <tr>\n",
       "      <th>195</th>\n",
       "      <td>alexa_sasmaz_ aytaç e cemre é que nem vinho qu...</td>\n",
       "      <td>0</td>\n",
       "      <td>False</td>\n",
       "    </tr>\n",
       "    <tr>\n",
       "      <th>196</th>\n",
       "      <td>kyujijiq gn alexa</td>\n",
       "      <td>0</td>\n",
       "      <td>False</td>\n",
       "    </tr>\n",
       "    <tr>\n",
       "      <th>197</th>\n",
       "      <td>denisemustafa tdbem nesse ponto de entendiment...</td>\n",
       "      <td>0</td>\n",
       "      <td>True</td>\n",
       "    </tr>\n",
       "    <tr>\n",
       "      <th>198</th>\n",
       "      <td>helnikfvs alexa tocar pra essa pessoa seu prob...</td>\n",
       "      <td>0</td>\n",
       "      <td>True</td>\n",
       "    </tr>\n",
       "    <tr>\n",
       "      <th>199</th>\n",
       "      <td>denisemustafa tdbem tenho um google aqui tbm m...</td>\n",
       "      <td>0</td>\n",
       "      <td>True</td>\n",
       "    </tr>\n",
       "  </tbody>\n",
       "</table>\n",
       "</div>"
      ],
      "text/plain": [
       "                                                 Teste  Classificacao  \\\n",
       "190    alwayscharlison boa noite jojo feliz um ano💜👻🦋🎸              0   \n",
       "191  alwayscharlison n0stupidpeople como dizia luis...              0   \n",
       "192                  alexa play luca era gay by povia               0   \n",
       "193  blackautie nisso a alexa me salva só falo em v...              0   \n",
       "194       hellencrissb portalaytacsbr sim infelizmente              0   \n",
       "195  alexa_sasmaz_ aytaç e cemre é que nem vinho qu...              0   \n",
       "196                                  kyujijiq gn alexa              0   \n",
       "197  denisemustafa tdbem nesse ponto de entendiment...              0   \n",
       "198  helnikfvs alexa tocar pra essa pessoa seu prob...              0   \n",
       "199  denisemustafa tdbem tenho um google aqui tbm m...              0   \n",
       "\n",
       "     Automático  \n",
       "190        True  \n",
       "191        True  \n",
       "192       False  \n",
       "193        True  \n",
       "194       False  \n",
       "195       False  \n",
       "196       False  \n",
       "197        True  \n",
       "198        True  \n",
       "199        True  "
      ]
     },
     "execution_count": 43,
     "metadata": {},
     "output_type": "execute_result"
    }
   ],
   "source": [
    "test.tail(10)"
   ]
  },
  {
   "cell_type": "code",
   "execution_count": 44,
   "metadata": {
    "scrolled": true
   },
   "outputs": [
    {
     "name": "stdout",
     "output_type": "stream",
     "text": [
      "Comentários positivos/relevantes sobre a Alexa: 155\n",
      "Comentários negativos/irrelevantes sobre a Alexa: 45\n"
     ]
    }
   ],
   "source": [
    "print('Comentários positivos/relevantes sobre a Alexa:', len(test.loc[test['Automático'] == True,:]))\n",
    "print('Comentários negativos/irrelevantes sobre a Alexa:', len(test.loc[test['Automático'] == False,:]))"
   ]
  },
  {
   "cell_type": "code",
   "execution_count": 45,
   "metadata": {},
   "outputs": [
    {
     "name": "stdout",
     "output_type": "stream",
     "text": [
      "Nossa exatidão: 65.5\n"
     ]
    }
   ],
   "source": [
    "exatidao = 0\n",
    "for linha in range(len(test)):\n",
    "    if test['Classificacao'][linha] == test['Automático'][linha]:\n",
    "        exatidao = exatidao + 1\n",
    "print('Nossa exatidão:',(exatidao/200)*100)"
   ]
  },
  {
   "cell_type": "code",
   "execution_count": 46,
   "metadata": {
    "scrolled": true
   },
   "outputs": [
    {
     "data": {
      "text/html": [
       "<div>\n",
       "<style scoped>\n",
       "    .dataframe tbody tr th:only-of-type {\n",
       "        vertical-align: middle;\n",
       "    }\n",
       "\n",
       "    .dataframe tbody tr th {\n",
       "        vertical-align: top;\n",
       "    }\n",
       "\n",
       "    .dataframe thead th {\n",
       "        text-align: right;\n",
       "    }\n",
       "</style>\n",
       "<table border=\"1\" class=\"dataframe\">\n",
       "  <thead>\n",
       "    <tr style=\"text-align: right;\">\n",
       "      <th>Automático</th>\n",
       "      <th>False</th>\n",
       "      <th>True</th>\n",
       "    </tr>\n",
       "    <tr>\n",
       "      <th>Classificacao</th>\n",
       "      <th></th>\n",
       "      <th></th>\n",
       "    </tr>\n",
       "  </thead>\n",
       "  <tbody>\n",
       "    <tr>\n",
       "      <th>0</th>\n",
       "      <td>19.0</td>\n",
       "      <td>31.0</td>\n",
       "    </tr>\n",
       "    <tr>\n",
       "      <th>1</th>\n",
       "      <td>3.5</td>\n",
       "      <td>46.5</td>\n",
       "    </tr>\n",
       "  </tbody>\n",
       "</table>\n",
       "</div>"
      ],
      "text/plain": [
       "Automático     False  True \n",
       "Classificacao              \n",
       "0               19.0   31.0\n",
       "1                3.5   46.5"
      ]
     },
     "execution_count": 46,
     "metadata": {},
     "output_type": "execute_result"
    }
   ],
   "source": [
    "table = pd.crosstab(test['Classificacao'],test['Automático'], normalize = True)*100\n",
    "table"
   ]
  },
  {
   "cell_type": "code",
   "execution_count": 49,
   "metadata": {},
   "outputs": [
    {
     "name": "stdout",
     "output_type": "stream",
     "text": [
      "Verdadeiros Negativos: 31.0 %\n",
      "Falsos Negativos: 19.0 %\n",
      "Verdadeiros Positivos: 46.5 %\n",
      "Falsos Positivos: 3.5 %\n"
     ]
    }
   ],
   "source": [
    "print('Verdadeiros Negativos:',table[1][0],'%')\n",
    "print('Falsos Negativos:',table[0][0],'%')\n",
    "print('Verdadeiros Positivos:',table[1][1],'%')\n",
    "print('Falsos Positivos:',table[0][1].round(1),'%')"
   ]
  },
  {
   "cell_type": "markdown",
   "metadata": {},
   "source": [
    "___\n",
    "### Concluindo"
   ]
  },
  {
   "cell_type": "markdown",
   "metadata": {},
   "source": [
    "Nosso classificador tem uma acurácia de 65.5% "
   ]
  },
  {
   "cell_type": "markdown",
   "metadata": {},
   "source": [
    "Sendo 46,5% e 31% de acurácia em ser relevante ou irrelevante respectivamente."
   ]
  },
  {
   "cell_type": "code",
   "execution_count": null,
   "metadata": {},
   "outputs": [],
   "source": []
  },
  {
   "cell_type": "markdown",
   "metadata": {},
   "source": [
    "___\n",
    "### Qualidade do Classificador a partir de novas separações dos tweets entre Treinamento e Teste\n",
    "\n",
    "Caso for fazer esse item do Projeto"
   ]
  },
  {
   "cell_type": "code",
   "execution_count": null,
   "metadata": {},
   "outputs": [],
   "source": []
  },
  {
   "cell_type": "code",
   "execution_count": null,
   "metadata": {},
   "outputs": [],
   "source": []
  },
  {
   "cell_type": "code",
   "execution_count": null,
   "metadata": {},
   "outputs": [],
   "source": []
  },
  {
   "cell_type": "markdown",
   "metadata": {},
   "source": [
    "___\n",
    "## Aperfeiçoamento:\n",
    "\n",
    "Trabalhos que conseguirem pelo menos conceito B vão evoluir em conceito dependendo da quantidade de itens avançados:\n",
    "\n",
    "* IMPLEMENTOU outras limpezas e transformações que não afetem a qualidade da informação contida nos tweets. Ex: stemming, lemmatization, stopwords\n",
    "* CORRIGIU separação de espaços entre palavras e emojis ou entre emojis e emojis\n",
    "* CRIOU categorias intermediárias de relevância baseadas na probabilidade: ex.: muito relevante, relevante, neutro, irrelevante, muito irrelevante. Pelo menos quatro categorias, com adição de mais tweets na base, conforme enunciado. (OBRIGATÓRIO PARA TRIOS, sem contar como item avançado)\n",
    "* EXPLICOU porquê não pode usar o próprio classificador para gerar mais amostras de treinamento\n",
    "* PROPÔS diferentes cenários para Naïve Bayes fora do contexto do projeto\n",
    "* SUGERIU e EXPLICOU melhorias reais com indicações concretas de como implementar (indicar como fazer e indicar material de pesquisa)\n",
    "* FEZ o item 6. Qualidade do Classificador a partir de novas separações dos tweets entre Treinamento e Teste descrito no enunciado do projeto (OBRIGATÓRIO para conceitos A ou A+)"
   ]
  },
  {
   "cell_type": "markdown",
   "metadata": {},
   "source": [
    "___\n",
    "## Referências"
   ]
  },
  {
   "cell_type": "markdown",
   "metadata": {},
   "source": [
    "[Naive Bayes and Text Classification](https://arxiv.org/pdf/1410.5329.pdf)  **Mais completo**\n",
    "\n",
    "[A practical explanation of a Naive Bayes Classifier](https://monkeylearn.com/blog/practical-explanation-naive-bayes-classifier/) **Mais simples**"
   ]
  }
 ],
 "metadata": {
  "kernelspec": {
   "display_name": "Python 3",
   "language": "python",
   "name": "python3"
  },
  "language_info": {
   "codemirror_mode": {
    "name": "ipython",
    "version": 3
   },
   "file_extension": ".py",
   "mimetype": "text/x-python",
   "name": "python",
   "nbconvert_exporter": "python",
   "pygments_lexer": "ipython3",
   "version": "3.8.8"
  }
 },
 "nbformat": 4,
 "nbformat_minor": 4
}
